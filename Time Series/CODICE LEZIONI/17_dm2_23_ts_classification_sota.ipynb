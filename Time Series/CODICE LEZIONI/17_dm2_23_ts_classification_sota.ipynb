{
 "cells": [
  {
   "cell_type": "code",
   "execution_count": 1,
   "metadata": {
    "pycharm": {
     "name": "#%%\n"
    }
   },
   "outputs": [],
   "source": [
    "# !pip install sktime==0.11.2 pyts"
   ]
  },
  {
   "cell_type": "code",
   "execution_count": 17,
   "metadata": {},
   "outputs": [
    {
     "name": "stdout",
     "output_type": "stream",
     "text": [
      "Requirement already satisfied: sktime==0.11.2 in /opt/anaconda3/lib/python3.9/site-packages (0.11.2)\n",
      "Requirement already satisfied: pyts in /opt/anaconda3/lib/python3.9/site-packages (0.12.0)\n",
      "Requirement already satisfied: pandas<1.5.0,>=1.1.0 in /opt/anaconda3/lib/python3.9/site-packages (from sktime==0.11.2) (1.4.4)\n",
      "Requirement already satisfied: deprecated>=1.2.13 in /opt/anaconda3/lib/python3.9/site-packages (from sktime==0.11.2) (1.2.13)\n",
      "Requirement already satisfied: scikit-learn>=0.24.0 in /opt/anaconda3/lib/python3.9/site-packages (from sktime==0.11.2) (1.2.1)\n",
      "Requirement already satisfied: statsmodels>=0.12.1 in /opt/anaconda3/lib/python3.9/site-packages (from sktime==0.11.2) (0.13.2)\n",
      "Requirement already satisfied: scipy<1.8.0 in /opt/anaconda3/lib/python3.9/site-packages (from sktime==0.11.2) (1.7.3)\n",
      "Requirement already satisfied: numpy<1.22,>=1.21.0 in /opt/anaconda3/lib/python3.9/site-packages (from sktime==0.11.2) (1.21.5)\n",
      "Requirement already satisfied: numba>=0.53 in /opt/anaconda3/lib/python3.9/site-packages (from sktime==0.11.2) (0.55.1)\n",
      "Requirement already satisfied: joblib>=0.12 in /opt/anaconda3/lib/python3.9/site-packages (from pyts) (1.2.0)\n",
      "Requirement already satisfied: wrapt<2,>=1.10 in /opt/anaconda3/lib/python3.9/site-packages (from deprecated>=1.2.13->sktime==0.11.2) (1.14.1)\n",
      "Requirement already satisfied: llvmlite<0.39,>=0.38.0rc1 in /opt/anaconda3/lib/python3.9/site-packages (from numba>=0.53->sktime==0.11.2) (0.38.0)\n",
      "Requirement already satisfied: setuptools in /opt/anaconda3/lib/python3.9/site-packages (from numba>=0.53->sktime==0.11.2) (63.4.1)\n",
      "Requirement already satisfied: python-dateutil>=2.8.1 in /opt/anaconda3/lib/python3.9/site-packages (from pandas<1.5.0,>=1.1.0->sktime==0.11.2) (2.8.2)\n",
      "Requirement already satisfied: pytz>=2020.1 in /opt/anaconda3/lib/python3.9/site-packages (from pandas<1.5.0,>=1.1.0->sktime==0.11.2) (2022.1)\n",
      "Requirement already satisfied: threadpoolctl>=2.0.0 in /opt/anaconda3/lib/python3.9/site-packages (from scikit-learn>=0.24.0->sktime==0.11.2) (2.2.0)\n",
      "Requirement already satisfied: packaging>=21.3 in /opt/anaconda3/lib/python3.9/site-packages (from statsmodels>=0.12.1->sktime==0.11.2) (21.3)\n",
      "Requirement already satisfied: patsy>=0.5.2 in /opt/anaconda3/lib/python3.9/site-packages (from statsmodels>=0.12.1->sktime==0.11.2) (0.5.2)\n",
      "Requirement already satisfied: pyparsing!=3.0.5,>=2.0.2 in /opt/anaconda3/lib/python3.9/site-packages (from packaging>=21.3->statsmodels>=0.12.1->sktime==0.11.2) (3.0.9)\n",
      "Requirement already satisfied: six in /opt/anaconda3/lib/python3.9/site-packages (from patsy>=0.5.2->statsmodels>=0.12.1->sktime==0.11.2) (1.16.0)\n"
     ]
    }
   ],
   "source": [
    "!pip install sktime==0.11.2 pyts"
   ]
  },
  {
   "cell_type": "code",
   "execution_count": 18,
   "metadata": {
    "pycharm": {
     "name": "#%%\n"
    }
   },
   "outputs": [
    {
     "ename": "ModuleNotFoundError",
     "evalue": "No module named 'sktime.datatypes'",
     "output_type": "error",
     "traceback": [
      "\u001b[0;31m---------------------------------------------------------------------------\u001b[0m",
      "\u001b[0;31mModuleNotFoundError\u001b[0m                       Traceback (most recent call last)",
      "\u001b[0;32m<ipython-input-18-b1b56a252875>\u001b[0m in \u001b[0;36m<module>\u001b[0;34m\u001b[0m\n\u001b[1;32m      4\u001b[0m \u001b[0;32mfrom\u001b[0m \u001b[0msktime\u001b[0m\u001b[0;34m.\u001b[0m\u001b[0mutils\u001b[0m\u001b[0;34m.\u001b[0m\u001b[0mplotting\u001b[0m \u001b[0;32mimport\u001b[0m \u001b[0mplot_series\u001b[0m\u001b[0;34m\u001b[0m\u001b[0;34m\u001b[0m\u001b[0m\n\u001b[1;32m      5\u001b[0m \u001b[0;32mfrom\u001b[0m \u001b[0mpyts\u001b[0m\u001b[0;34m.\u001b[0m\u001b[0mdatasets\u001b[0m \u001b[0;32mimport\u001b[0m \u001b[0mfetch_uea_dataset\u001b[0m\u001b[0;34m\u001b[0m\u001b[0;34m\u001b[0m\u001b[0m\n\u001b[0;32m----> 6\u001b[0;31m \u001b[0;32mfrom\u001b[0m \u001b[0msktime\u001b[0m\u001b[0;34m.\u001b[0m\u001b[0mdatatypes\u001b[0m\u001b[0;34m.\u001b[0m\u001b[0m_panel\u001b[0m\u001b[0;34m.\u001b[0m\u001b[0m_convert\u001b[0m \u001b[0;32mimport\u001b[0m \u001b[0mfrom_3d_numpy_to_nested\u001b[0m\u001b[0;34m\u001b[0m\u001b[0;34m\u001b[0m\u001b[0m\n\u001b[0m",
      "\u001b[0;31mModuleNotFoundError\u001b[0m: No module named 'sktime.datatypes'"
     ]
    }
   ],
   "source": [
    "import numpy as np\n",
    "from sktime.datasets import load_arrow_head  # univariate dataset\n",
    "from sklearn.metrics import classification_report\n",
    "from sktime.utils.plotting import plot_series\n",
    "from pyts.datasets import fetch_uea_dataset\n",
    "from sktime.datatypes._panel._convert import from_3d_numpy_to_nested"
   ]
  },
  {
   "cell_type": "markdown",
   "metadata": {
    "pycharm": {
     "name": "#%% md\n"
    }
   },
   "source": [
    "## UNIVARIATE"
   ]
  },
  {
   "cell_type": "code",
   "execution_count": 3,
   "metadata": {
    "pycharm": {
     "name": "#%%\n"
    }
   },
   "outputs": [],
   "source": [
    "X_train, y_train = load_arrow_head(split=\"train\", return_X_y=True)\n",
    "X_test, y_test = load_arrow_head(split=\"test\", return_X_y=True)"
   ]
  },
  {
   "cell_type": "code",
   "execution_count": 4,
   "metadata": {
    "pycharm": {
     "name": "#%%\n"
    }
   },
   "outputs": [
    {
     "data": {
      "text/html": [
       "<div>\n",
       "<style scoped>\n",
       "    .dataframe tbody tr th:only-of-type {\n",
       "        vertical-align: middle;\n",
       "    }\n",
       "\n",
       "    .dataframe tbody tr th {\n",
       "        vertical-align: top;\n",
       "    }\n",
       "\n",
       "    .dataframe thead th {\n",
       "        text-align: right;\n",
       "    }\n",
       "</style>\n",
       "<table border=\"1\" class=\"dataframe\">\n",
       "  <thead>\n",
       "    <tr style=\"text-align: right;\">\n",
       "      <th></th>\n",
       "      <th>dim_0</th>\n",
       "    </tr>\n",
       "  </thead>\n",
       "  <tbody>\n",
       "    <tr>\n",
       "      <th>0</th>\n",
       "      <td>0     -1.963009\n",
       "1     -1.957825\n",
       "2     -1.95614...</td>\n",
       "    </tr>\n",
       "    <tr>\n",
       "      <th>1</th>\n",
       "      <td>0     -1.774571\n",
       "1     -1.774036\n",
       "2     -1.77658...</td>\n",
       "    </tr>\n",
       "    <tr>\n",
       "      <th>2</th>\n",
       "      <td>0     -1.866021\n",
       "1     -1.841991\n",
       "2     -1.83502...</td>\n",
       "    </tr>\n",
       "    <tr>\n",
       "      <th>3</th>\n",
       "      <td>0     -2.073758\n",
       "1     -2.073301\n",
       "2     -2.04460...</td>\n",
       "    </tr>\n",
       "    <tr>\n",
       "      <th>4</th>\n",
       "      <td>0     -1.746255\n",
       "1     -1.741263\n",
       "2     -1.72274...</td>\n",
       "    </tr>\n",
       "    <tr>\n",
       "      <th>5</th>\n",
       "      <td>0     -1.982806\n",
       "1     -1.978861\n",
       "2     -1.93733...</td>\n",
       "    </tr>\n",
       "    <tr>\n",
       "      <th>6</th>\n",
       "      <td>0     -2.083023\n",
       "1     -2.092058\n",
       "2     -2.04946...</td>\n",
       "    </tr>\n",
       "    <tr>\n",
       "      <th>7</th>\n",
       "      <td>0     -1.633596\n",
       "1     -1.643175\n",
       "2     -1.61367...</td>\n",
       "    </tr>\n",
       "    <tr>\n",
       "      <th>8</th>\n",
       "      <td>0     -1.717013\n",
       "1     -1.728059\n",
       "2     -1.68330...</td>\n",
       "    </tr>\n",
       "    <tr>\n",
       "      <th>9</th>\n",
       "      <td>0     -2.245295\n",
       "1     -2.223850\n",
       "2     -2.17187...</td>\n",
       "    </tr>\n",
       "    <tr>\n",
       "      <th>10</th>\n",
       "      <td>0     -1.844180\n",
       "1     -1.839913\n",
       "2     -1.82574...</td>\n",
       "    </tr>\n",
       "    <tr>\n",
       "      <th>11</th>\n",
       "      <td>0     -1.833709\n",
       "1     -1.827681\n",
       "2     -1.77645...</td>\n",
       "    </tr>\n",
       "    <tr>\n",
       "      <th>12</th>\n",
       "      <td>0     -2.105590\n",
       "1     -2.121538\n",
       "2     -2.03591...</td>\n",
       "    </tr>\n",
       "    <tr>\n",
       "      <th>13</th>\n",
       "      <td>0     -1.900535\n",
       "1     -1.882731\n",
       "2     -1.86845...</td>\n",
       "    </tr>\n",
       "    <tr>\n",
       "      <th>14</th>\n",
       "      <td>0     -2.188812\n",
       "1     -2.185519\n",
       "2     -2.17646...</td>\n",
       "    </tr>\n",
       "    <tr>\n",
       "      <th>15</th>\n",
       "      <td>0     -2.164456\n",
       "1     -2.178541\n",
       "2     -2.06604...</td>\n",
       "    </tr>\n",
       "    <tr>\n",
       "      <th>16</th>\n",
       "      <td>0     -2.053743\n",
       "1     -2.036852\n",
       "2     -2.03303...</td>\n",
       "    </tr>\n",
       "    <tr>\n",
       "      <th>17</th>\n",
       "      <td>0     -1.653743\n",
       "1     -1.650974\n",
       "2     -1.63187...</td>\n",
       "    </tr>\n",
       "    <tr>\n",
       "      <th>18</th>\n",
       "      <td>0     -2.113801\n",
       "1     -2.091838\n",
       "2     -2.04881...</td>\n",
       "    </tr>\n",
       "    <tr>\n",
       "      <th>19</th>\n",
       "      <td>0     -1.882249\n",
       "1     -1.880586\n",
       "2     -1.86581...</td>\n",
       "    </tr>\n",
       "    <tr>\n",
       "      <th>20</th>\n",
       "      <td>0     -1.922567\n",
       "1     -1.907956\n",
       "2     -1.88009...</td>\n",
       "    </tr>\n",
       "    <tr>\n",
       "      <th>21</th>\n",
       "      <td>0     -1.988754\n",
       "1     -2.024736\n",
       "2     -1.92620...</td>\n",
       "    </tr>\n",
       "    <tr>\n",
       "      <th>22</th>\n",
       "      <td>0     -1.754535\n",
       "1     -1.777870\n",
       "2     -1.75141...</td>\n",
       "    </tr>\n",
       "    <tr>\n",
       "      <th>23</th>\n",
       "      <td>0     -2.159707\n",
       "1     -2.175603\n",
       "2     -2.16559...</td>\n",
       "    </tr>\n",
       "    <tr>\n",
       "      <th>24</th>\n",
       "      <td>0     -2.144754\n",
       "1     -2.165396\n",
       "2     -2.15616...</td>\n",
       "    </tr>\n",
       "    <tr>\n",
       "      <th>25</th>\n",
       "      <td>0     -1.632037\n",
       "1     -1.630116\n",
       "2     -1.60748...</td>\n",
       "    </tr>\n",
       "    <tr>\n",
       "      <th>26</th>\n",
       "      <td>0     -2.255120\n",
       "1     -2.233663\n",
       "2     -2.22919...</td>\n",
       "    </tr>\n",
       "    <tr>\n",
       "      <th>27</th>\n",
       "      <td>0     -1.828902\n",
       "1     -1.841468\n",
       "2     -1.80630...</td>\n",
       "    </tr>\n",
       "    <tr>\n",
       "      <th>28</th>\n",
       "      <td>0     -2.004295\n",
       "1     -1.985612\n",
       "2     -1.95328...</td>\n",
       "    </tr>\n",
       "    <tr>\n",
       "      <th>29</th>\n",
       "      <td>0     -1.829271\n",
       "1     -1.832426\n",
       "2     -1.82261...</td>\n",
       "    </tr>\n",
       "    <tr>\n",
       "      <th>30</th>\n",
       "      <td>0     -2.130983\n",
       "1     -2.109531\n",
       "2     -2.08417...</td>\n",
       "    </tr>\n",
       "    <tr>\n",
       "      <th>31</th>\n",
       "      <td>0     -1.897632\n",
       "1     -1.896079\n",
       "2     -1.84324...</td>\n",
       "    </tr>\n",
       "    <tr>\n",
       "      <th>32</th>\n",
       "      <td>0     -1.673688\n",
       "1     -1.671479\n",
       "2     -1.66018...</td>\n",
       "    </tr>\n",
       "    <tr>\n",
       "      <th>33</th>\n",
       "      <td>0     -2.130812\n",
       "1     -2.104430\n",
       "2     -2.07475...</td>\n",
       "    </tr>\n",
       "    <tr>\n",
       "      <th>34</th>\n",
       "      <td>0     -1.880338\n",
       "1     -1.862662\n",
       "2     -1.84968...</td>\n",
       "    </tr>\n",
       "    <tr>\n",
       "      <th>35</th>\n",
       "      <td>0     -1.801050\n",
       "1     -1.798915\n",
       "2     -1.77837...</td>\n",
       "    </tr>\n",
       "  </tbody>\n",
       "</table>\n",
       "</div>"
      ],
      "text/plain": [
       "                                                dim_0\n",
       "0   0     -1.963009\n",
       "1     -1.957825\n",
       "2     -1.95614...\n",
       "1   0     -1.774571\n",
       "1     -1.774036\n",
       "2     -1.77658...\n",
       "2   0     -1.866021\n",
       "1     -1.841991\n",
       "2     -1.83502...\n",
       "3   0     -2.073758\n",
       "1     -2.073301\n",
       "2     -2.04460...\n",
       "4   0     -1.746255\n",
       "1     -1.741263\n",
       "2     -1.72274...\n",
       "5   0     -1.982806\n",
       "1     -1.978861\n",
       "2     -1.93733...\n",
       "6   0     -2.083023\n",
       "1     -2.092058\n",
       "2     -2.04946...\n",
       "7   0     -1.633596\n",
       "1     -1.643175\n",
       "2     -1.61367...\n",
       "8   0     -1.717013\n",
       "1     -1.728059\n",
       "2     -1.68330...\n",
       "9   0     -2.245295\n",
       "1     -2.223850\n",
       "2     -2.17187...\n",
       "10  0     -1.844180\n",
       "1     -1.839913\n",
       "2     -1.82574...\n",
       "11  0     -1.833709\n",
       "1     -1.827681\n",
       "2     -1.77645...\n",
       "12  0     -2.105590\n",
       "1     -2.121538\n",
       "2     -2.03591...\n",
       "13  0     -1.900535\n",
       "1     -1.882731\n",
       "2     -1.86845...\n",
       "14  0     -2.188812\n",
       "1     -2.185519\n",
       "2     -2.17646...\n",
       "15  0     -2.164456\n",
       "1     -2.178541\n",
       "2     -2.06604...\n",
       "16  0     -2.053743\n",
       "1     -2.036852\n",
       "2     -2.03303...\n",
       "17  0     -1.653743\n",
       "1     -1.650974\n",
       "2     -1.63187...\n",
       "18  0     -2.113801\n",
       "1     -2.091838\n",
       "2     -2.04881...\n",
       "19  0     -1.882249\n",
       "1     -1.880586\n",
       "2     -1.86581...\n",
       "20  0     -1.922567\n",
       "1     -1.907956\n",
       "2     -1.88009...\n",
       "21  0     -1.988754\n",
       "1     -2.024736\n",
       "2     -1.92620...\n",
       "22  0     -1.754535\n",
       "1     -1.777870\n",
       "2     -1.75141...\n",
       "23  0     -2.159707\n",
       "1     -2.175603\n",
       "2     -2.16559...\n",
       "24  0     -2.144754\n",
       "1     -2.165396\n",
       "2     -2.15616...\n",
       "25  0     -1.632037\n",
       "1     -1.630116\n",
       "2     -1.60748...\n",
       "26  0     -2.255120\n",
       "1     -2.233663\n",
       "2     -2.22919...\n",
       "27  0     -1.828902\n",
       "1     -1.841468\n",
       "2     -1.80630...\n",
       "28  0     -2.004295\n",
       "1     -1.985612\n",
       "2     -1.95328...\n",
       "29  0     -1.829271\n",
       "1     -1.832426\n",
       "2     -1.82261...\n",
       "30  0     -2.130983\n",
       "1     -2.109531\n",
       "2     -2.08417...\n",
       "31  0     -1.897632\n",
       "1     -1.896079\n",
       "2     -1.84324...\n",
       "32  0     -1.673688\n",
       "1     -1.671479\n",
       "2     -1.66018...\n",
       "33  0     -2.130812\n",
       "1     -2.104430\n",
       "2     -2.07475...\n",
       "34  0     -1.880338\n",
       "1     -1.862662\n",
       "2     -1.84968...\n",
       "35  0     -1.801050\n",
       "1     -1.798915\n",
       "2     -1.77837..."
      ]
     },
     "execution_count": 4,
     "metadata": {},
     "output_type": "execute_result"
    }
   ],
   "source": [
    "X_train # pd.DataFrame with a column for each signal and a pd.Series in each cell"
   ]
  },
  {
   "cell_type": "code",
   "execution_count": 5,
   "metadata": {
    "pycharm": {
     "name": "#%%\n"
    }
   },
   "outputs": [
    {
     "data": {
      "text/plain": [
       "(<Figure size 1152x288 with 1 Axes>, <AxesSubplot:>)"
      ]
     },
     "execution_count": 5,
     "metadata": {},
     "output_type": "execute_result"
    },
    {
     "data": {
      "image/png": "[encoded data removed]",
      "text/plain": [
       "<Figure size 1152x288 with 1 Axes>"
      ]
     },
     "metadata": {
      "needs_background": "light"
     },
     "output_type": "display_data"
    }
   ],
   "source": [
    "plot_series(X_train[\"dim_0\"][0])"
   ]
  },
  {
   "cell_type": "markdown",
   "metadata": {
    "pycharm": {
     "name": "#%% md\n"
    }
   },
   "source": [
    "### 1-NN with DTW (baseline)"
   ]
  },
  {
   "cell_type": "code",
   "execution_count": 6,
   "metadata": {
    "pycharm": {
     "name": "#%%\n"
    }
   },
   "outputs": [],
   "source": [
    "from sktime.classification.distance_based import KNeighborsTimeSeriesClassifier"
   ]
  },
  {
   "cell_type": "code",
   "execution_count": 7,
   "metadata": {
    "pycharm": {
     "name": "#%%\n"
    }
   },
   "outputs": [
    {
     "data": {
      "text/plain": [
       "KNeighborsTimeSeriesClassifier()"
      ]
     },
     "execution_count": 7,
     "metadata": {},
     "output_type": "execute_result"
    }
   ],
   "source": [
    "clf = KNeighborsTimeSeriesClassifier()\n",
    "clf.fit(X_train, y_train)"
   ]
  },
  {
   "cell_type": "code",
   "execution_count": 8,
   "metadata": {
    "pycharm": {
     "name": "#%%\n"
    }
   },
   "outputs": [
    {
     "name": "stdout",
     "output_type": "stream",
     "text": [
      "              precision    recall  f1-score   support\n",
      "\n",
      "           0       0.84      0.71      0.77        69\n",
      "           1       0.59      0.72      0.65        53\n",
      "           2       0.68      0.68      0.68        53\n",
      "\n",
      "    accuracy                           0.70       175\n",
      "   macro avg       0.71      0.70      0.70       175\n",
      "weighted avg       0.72      0.70      0.71       175\n",
      "\n",
      "CPU times: user 4.72 s, sys: 155 ms, total: 4.87 s\n",
      "Wall time: 5.62 s\n"
     ]
    }
   ],
   "source": [
    "%%time\n",
    "y_pred = clf.predict(X_test)\n",
    "print(classification_report(y_test, y_pred))"
   ]
  },
  {
   "cell_type": "markdown",
   "metadata": {
    "pycharm": {
     "name": "#%% md\n"
    }
   },
   "source": [
    "### ROCKET"
   ]
  },
  {
   "cell_type": "code",
   "execution_count": 9,
   "metadata": {
    "pycharm": {
     "name": "#%%\n"
    }
   },
   "outputs": [],
   "source": [
    "from sklearn.linear_model import RidgeClassifierCV\n",
    "from sktime.transformations.panel.rocket import Rocket"
   ]
  },
  {
   "cell_type": "code",
   "execution_count": 10,
   "metadata": {
    "pycharm": {
     "name": "#%%\n"
    }
   },
   "outputs": [
    {
     "name": "stdout",
     "output_type": "stream",
     "text": [
      "CPU times: user 2.32 s, sys: 77.2 ms, total: 2.4 s\n",
      "Wall time: 2.27 s\n"
     ]
    },
    {
     "data": {
      "text/plain": [
       "RidgeClassifierCV(alphas=array([1.00000000e-03, 4.64158883e-03, 2.15443469e-02, 1.00000000e-01,\n",
       "       4.64158883e-01, 2.15443469e+00, 1.00000000e+01, 4.64158883e+01,\n",
       "       2.15443469e+02, 1.00000000e+03]),\n",
       "                  normalize=True)"
      ]
     },
     "execution_count": 10,
     "metadata": {},
     "output_type": "execute_result"
    }
   ],
   "source": [
    "%%time\n",
    "rocket = Rocket()  # by default, MiniRocket uses ~10,000 kernels\n",
    "rocket.fit(X_train)\n",
    "X_train_transform = rocket.transform(X_train)\n",
    "clf = RidgeClassifierCV(alphas=np.logspace(-3, 3, 10), normalize=True)\n",
    "clf.fit(X_train_transform, y_train)"
   ]
  },
  {
   "cell_type": "code",
   "execution_count": 11,
   "metadata": {
    "pycharm": {
     "name": "#%%\n"
    }
   },
   "outputs": [
    {
     "name": "stdout",
     "output_type": "stream",
     "text": [
      "              precision    recall  f1-score   support\n",
      "\n",
      "           0       0.91      0.61      0.73        69\n",
      "           1       0.85      0.94      0.89        53\n",
      "           2       0.73      0.96      0.83        53\n",
      "\n",
      "    accuracy                           0.82       175\n",
      "   macro avg       0.83      0.84      0.82       175\n",
      "weighted avg       0.84      0.82      0.81       175\n",
      "\n"
     ]
    }
   ],
   "source": [
    "X_test_transform = rocket.transform(X_test)\n",
    "y_pred = clf.predict(X_test_transform)\n",
    "print(classification_report(y_test, y_pred))"
   ]
  },
  {
   "cell_type": "markdown",
   "metadata": {
    "pycharm": {
     "name": "#%% md\n"
    }
   },
   "source": [
    "### MINI-ROCKET"
   ]
  },
  {
   "cell_type": "code",
   "execution_count": 12,
   "metadata": {
    "pycharm": {
     "name": "#%%\n"
    }
   },
   "outputs": [],
   "source": [
    "from sklearn.linear_model import RidgeClassifierCV\n",
    "from sktime.transformations.panel.rocket import MiniRocket"
   ]
  },
  {
   "cell_type": "code",
   "execution_count": 13,
   "metadata": {
    "pycharm": {
     "name": "#%%\n"
    }
   },
   "outputs": [
    {
     "name": "stdout",
     "output_type": "stream",
     "text": [
      "CPU times: user 504 ms, sys: 36.9 ms, total: 541 ms\n",
      "Wall time: 582 ms\n"
     ]
    },
    {
     "data": {
      "text/plain": [
       "RidgeClassifierCV(alphas=array([1.00000000e-03, 4.64158883e-03, 2.15443469e-02, 1.00000000e-01,\n",
       "       4.64158883e-01, 2.15443469e+00, 1.00000000e+01, 4.64158883e+01,\n",
       "       2.15443469e+02, 1.00000000e+03]),\n",
       "                  normalize=True)"
      ]
     },
     "execution_count": 13,
     "metadata": {},
     "output_type": "execute_result"
    }
   ],
   "source": [
    "%%time\n",
    "minirocket = MiniRocket()  # by default, MiniRocket uses ~10,000 kernels\n",
    "minirocket.fit(X_train)\n",
    "X_train_transform = minirocket.transform(X_train)\n",
    "clf = RidgeClassifierCV(alphas=np.logspace(-3, 3, 10), normalize=True)\n",
    "clf.fit(X_train_transform, y_train)"
   ]
  },
  {
   "cell_type": "code",
   "execution_count": 14,
   "metadata": {
    "pycharm": {
     "name": "#%%\n"
    }
   },
   "outputs": [
    {
     "name": "stdout",
     "output_type": "stream",
     "text": [
      "              precision    recall  f1-score   support\n",
      "\n",
      "           0       0.95      0.75      0.84        69\n",
      "           1       0.83      0.92      0.88        53\n",
      "           2       0.84      0.96      0.89        53\n",
      "\n",
      "    accuracy                           0.87       175\n",
      "   macro avg       0.87      0.88      0.87       175\n",
      "weighted avg       0.88      0.87      0.87       175\n",
      "\n"
     ]
    }
   ],
   "source": [
    "X_test_transform = minirocket.transform(X_test)\n",
    "y_pred = clf.predict(X_test_transform)\n",
    "print(classification_report(y_test, y_pred))"
   ]
  },
  {
   "cell_type": "markdown",
   "metadata": {
    "pycharm": {
     "name": "#%% md\n"
    }
   },
   "source": [
    "### Canonical Interval Forest (CIF)"
   ]
  },
  {
   "cell_type": "code",
   "execution_count": 15,
   "metadata": {
    "pycharm": {
     "name": "#%%\n"
    }
   },
   "outputs": [],
   "source": [
    "from sktime.classification.interval_based import CanonicalIntervalForest"
   ]
  },
  {
   "cell_type": "code",
   "execution_count": 16,
   "metadata": {
    "pycharm": {
     "name": "#%%\n"
    }
   },
   "outputs": [
    {
     "name": "stdout",
     "output_type": "stream",
     "text": [
      "CPU times: user 3min 1s, sys: 16.6 s, total: 3min 17s\n",
      "Wall time: 4min 13s\n"
     ]
    },
    {
     "data": {
      "text/plain": [
       "CanonicalIntervalForest(n_estimators=30)"
      ]
     },
     "execution_count": 16,
     "metadata": {},
     "output_type": "execute_result"
    }
   ],
   "source": [
    "%%time\n",
    "clf = CanonicalIntervalForest(n_estimators=30)\n",
    "clf.fit(X_train, y_train)"
   ]
  },
  {
   "cell_type": "code",
   "execution_count": 17,
   "metadata": {
    "pycharm": {
     "name": "#%%\n"
    }
   },
   "outputs": [
    {
     "name": "stdout",
     "output_type": "stream",
     "text": [
      "              precision    recall  f1-score   support\n",
      "\n",
      "           0       0.86      0.81      0.84        69\n",
      "           1       0.72      0.74      0.73        53\n",
      "           2       0.75      0.79      0.77        53\n",
      "\n",
      "    accuracy                           0.78       175\n",
      "   macro avg       0.78      0.78      0.78       175\n",
      "weighted avg       0.79      0.78      0.78       175\n",
      "\n"
     ]
    }
   ],
   "source": [
    "y_pred = clf.predict(X_test)\n",
    "print(classification_report(y_test, y_pred))"
   ]
  },
  {
   "cell_type": "markdown",
   "metadata": {
    "pycharm": {
     "name": "#%% md\n"
    }
   },
   "source": [
    "## MULTIVARIATE"
   ]
  },
  {
   "cell_type": "code",
   "execution_count": 21,
   "metadata": {
    "pycharm": {
     "name": "#%%\n"
    }
   },
   "outputs": [],
   "source": [
    "X_train, X_test, y_train, y_test = fetch_uea_dataset(\"Libras\", return_X_y=True)"
   ]
  },
  {
   "cell_type": "code",
   "execution_count": 22,
   "metadata": {
    "pycharm": {
     "name": "#%%\n"
    }
   },
   "outputs": [
    {
     "data": {
      "text/plain": [
       "(180, 2, 45)"
      ]
     },
     "execution_count": 22,
     "metadata": {},
     "output_type": "execute_result"
    }
   ],
   "source": [
    "X_train.shape"
   ]
  },
  {
   "cell_type": "markdown",
   "metadata": {
    "pycharm": {
     "name": "#%% md\n"
    }
   },
   "source": [
    "to convert to and from np arrays:\n",
    "`sktime.datatypes._panel._convert.from_3d_numpy_to_nested`\n",
    "`sktime.datatypes._panel._convert.from_nested_to_3d_numpy`\n",
    "with the np array -> (n_instances, n_columns, n_timepoints)"
   ]
  },
  {
   "cell_type": "code",
   "execution_count": 23,
   "metadata": {
    "pycharm": {
     "name": "#%%\n"
    }
   },
   "outputs": [],
   "source": [
    "X_train = from_3d_numpy_to_nested(X_train)\n",
    "X_test = from_3d_numpy_to_nested(X_test)"
   ]
  },
  {
   "cell_type": "code",
   "execution_count": 24,
   "metadata": {
    "pycharm": {
     "name": "#%%\n"
    }
   },
   "outputs": [
    {
     "data": {
      "text/html": [
       "<div>\n",
       "<style scoped>\n",
       "    .dataframe tbody tr th:only-of-type {\n",
       "        vertical-align: middle;\n",
       "    }\n",
       "\n",
       "    .dataframe tbody tr th {\n",
       "        vertical-align: top;\n",
       "    }\n",
       "\n",
       "    .dataframe thead th {\n",
       "        text-align: right;\n",
       "    }\n",
       "</style>\n",
       "<table border=\"1\" class=\"dataframe\">\n",
       "  <thead>\n",
       "    <tr style=\"text-align: right;\">\n",
       "      <th></th>\n",
       "      <th>var_0</th>\n",
       "      <th>var_1</th>\n",
       "    </tr>\n",
       "  </thead>\n",
       "  <tbody>\n",
       "    <tr>\n",
       "      <th>0</th>\n",
       "      <td>0     0.67892\n",
       "1     0.68085\n",
       "2     0.68085\n",
       "3   ...</td>\n",
       "      <td>0     0.27315\n",
       "1     0.27315\n",
       "2     0.27315\n",
       "3   ...</td>\n",
       "    </tr>\n",
       "    <tr>\n",
       "      <th>1</th>\n",
       "      <td>0     0.72147\n",
       "1     0.72340\n",
       "2     0.72340\n",
       "3   ...</td>\n",
       "      <td>0     0.23611\n",
       "1     0.23611\n",
       "2     0.23611\n",
       "3   ...</td>\n",
       "    </tr>\n",
       "    <tr>\n",
       "      <th>2</th>\n",
       "      <td>0     0.67118\n",
       "1     0.67118\n",
       "2     0.67311\n",
       "3   ...</td>\n",
       "      <td>0     0.38426\n",
       "1     0.38657\n",
       "2     0.38657\n",
       "3   ...</td>\n",
       "    </tr>\n",
       "    <tr>\n",
       "      <th>3</th>\n",
       "      <td>0     0.71567\n",
       "1     0.71373\n",
       "2     0.70986\n",
       "3   ...</td>\n",
       "      <td>0     0.68056\n",
       "1     0.68056\n",
       "2     0.68981\n",
       "3   ...</td>\n",
       "    </tr>\n",
       "    <tr>\n",
       "      <th>4</th>\n",
       "      <td>0     0.77756\n",
       "1     0.77563\n",
       "2     0.77369\n",
       "3   ...</td>\n",
       "      <td>0     0.63426\n",
       "1     0.63426\n",
       "2     0.61806\n",
       "3   ...</td>\n",
       "    </tr>\n",
       "    <tr>\n",
       "      <th>...</th>\n",
       "      <td>...</td>\n",
       "      <td>...</td>\n",
       "    </tr>\n",
       "    <tr>\n",
       "      <th>175</th>\n",
       "      <td>0     0.61122\n",
       "1     0.61122\n",
       "2     0.61315\n",
       "3   ...</td>\n",
       "      <td>0     0.75926\n",
       "1     0.75694\n",
       "2     0.75694\n",
       "3   ...</td>\n",
       "    </tr>\n",
       "    <tr>\n",
       "      <th>176</th>\n",
       "      <td>0     0.65957\n",
       "1     0.65764\n",
       "2     0.65957\n",
       "3   ...</td>\n",
       "      <td>0     0.79167\n",
       "1     0.78704\n",
       "2     0.78935\n",
       "3   ...</td>\n",
       "    </tr>\n",
       "    <tr>\n",
       "      <th>177</th>\n",
       "      <td>0     0.64023\n",
       "1     0.64217\n",
       "2     0.64217\n",
       "3   ...</td>\n",
       "      <td>0     0.71991\n",
       "1     0.71759\n",
       "2     0.71759\n",
       "3   ...</td>\n",
       "    </tr>\n",
       "    <tr>\n",
       "      <th>178</th>\n",
       "      <td>0     0.65957\n",
       "1     0.65764\n",
       "2     0.65957\n",
       "3   ...</td>\n",
       "      <td>0     0.79167\n",
       "1     0.78704\n",
       "2     0.78935\n",
       "3   ...</td>\n",
       "    </tr>\n",
       "    <tr>\n",
       "      <th>179</th>\n",
       "      <td>0     0.64023\n",
       "1     0.64217\n",
       "2     0.64217\n",
       "3   ...</td>\n",
       "      <td>0     0.71991\n",
       "1     0.71759\n",
       "2     0.71759\n",
       "3   ...</td>\n",
       "    </tr>\n",
       "  </tbody>\n",
       "</table>\n",
       "<p>180 rows × 2 columns</p>\n",
       "</div>"
      ],
      "text/plain": [
       "                                                 var_0  \\\n",
       "0    0     0.67892\n",
       "1     0.68085\n",
       "2     0.68085\n",
       "3   ...   \n",
       "1    0     0.72147\n",
       "1     0.72340\n",
       "2     0.72340\n",
       "3   ...   \n",
       "2    0     0.67118\n",
       "1     0.67118\n",
       "2     0.67311\n",
       "3   ...   \n",
       "3    0     0.71567\n",
       "1     0.71373\n",
       "2     0.70986\n",
       "3   ...   \n",
       "4    0     0.77756\n",
       "1     0.77563\n",
       "2     0.77369\n",
       "3   ...   \n",
       "..                                                 ...   \n",
       "175  0     0.61122\n",
       "1     0.61122\n",
       "2     0.61315\n",
       "3   ...   \n",
       "176  0     0.65957\n",
       "1     0.65764\n",
       "2     0.65957\n",
       "3   ...   \n",
       "177  0     0.64023\n",
       "1     0.64217\n",
       "2     0.64217\n",
       "3   ...   \n",
       "178  0     0.65957\n",
       "1     0.65764\n",
       "2     0.65957\n",
       "3   ...   \n",
       "179  0     0.64023\n",
       "1     0.64217\n",
       "2     0.64217\n",
       "3   ...   \n",
       "\n",
       "                                                 var_1  \n",
       "0    0     0.27315\n",
       "1     0.27315\n",
       "2     0.27315\n",
       "3   ...  \n",
       "1    0     0.23611\n",
       "1     0.23611\n",
       "2     0.23611\n",
       "3   ...  \n",
       "2    0     0.38426\n",
       "1     0.38657\n",
       "2     0.38657\n",
       "3   ...  \n",
       "3    0     0.68056\n",
       "1     0.68056\n",
       "2     0.68981\n",
       "3   ...  \n",
       "4    0     0.63426\n",
       "1     0.63426\n",
       "2     0.61806\n",
       "3   ...  \n",
       "..                                                 ...  \n",
       "175  0     0.75926\n",
       "1     0.75694\n",
       "2     0.75694\n",
       "3   ...  \n",
       "176  0     0.79167\n",
       "1     0.78704\n",
       "2     0.78935\n",
       "3   ...  \n",
       "177  0     0.71991\n",
       "1     0.71759\n",
       "2     0.71759\n",
       "3   ...  \n",
       "178  0     0.79167\n",
       "1     0.78704\n",
       "2     0.78935\n",
       "3   ...  \n",
       "179  0     0.71991\n",
       "1     0.71759\n",
       "2     0.71759\n",
       "3   ...  \n",
       "\n",
       "[180 rows x 2 columns]"
      ]
     },
     "execution_count": 24,
     "metadata": {},
     "output_type": "execute_result"
    }
   ],
   "source": [
    "X_train"
   ]
  },
  {
   "cell_type": "code",
   "execution_count": 25,
   "metadata": {
    "pycharm": {
     "name": "#%%\n"
    }
   },
   "outputs": [
    {
     "data": {
      "image/png": "[encoded data removed]",
      "text/plain": [
       "<Figure size 1152x288 with 1 Axes>"
      ]
     },
     "metadata": {
      "needs_background": "light"
     },
     "output_type": "display_data"
    },
    {
     "data": {
      "image/png": "[encoded data removed]",
      "text/plain": [
       "<Figure size 1152x288 with 1 Axes>"
      ]
     },
     "metadata": {
      "needs_background": "light"
     },
     "output_type": "display_data"
    }
   ],
   "source": [
    "for dim in X_train.columns:\n",
    "    plot_series(X_train[dim][0])  # plot each signal of the mts"
   ]
  },
  {
   "cell_type": "markdown",
   "metadata": {},
   "source": [
    "### 1-NN with DTW (baseline)"
   ]
  },
  {
   "cell_type": "code",
   "execution_count": 26,
   "metadata": {
    "pycharm": {
     "name": "#%%\n"
    }
   },
   "outputs": [],
   "source": [
    "from sktime.classification.distance_based import KNeighborsTimeSeriesClassifier"
   ]
  },
  {
   "cell_type": "code",
   "execution_count": 27,
   "metadata": {
    "pycharm": {
     "name": "#%%\n"
    }
   },
   "outputs": [
    {
     "data": {
      "text/plain": [
       "KNeighborsTimeSeriesClassifier()"
      ]
     },
     "execution_count": 27,
     "metadata": {},
     "output_type": "execute_result"
    }
   ],
   "source": [
    "clf = KNeighborsTimeSeriesClassifier()\n",
    "clf.fit(X_train, y_train)"
   ]
  },
  {
   "cell_type": "code",
   "execution_count": 28,
   "metadata": {
    "pycharm": {
     "name": "#%%\n"
    }
   },
   "outputs": [
    {
     "name": "stdout",
     "output_type": "stream",
     "text": [
      "              precision    recall  f1-score   support\n",
      "\n",
      "           1       1.00      0.75      0.86        12\n",
      "           2       0.80      1.00      0.89        12\n",
      "           3       1.00      1.00      1.00        12\n",
      "           4       0.92      0.92      0.92        12\n",
      "           5       1.00      1.00      1.00        12\n",
      "           6       1.00      0.92      0.96        12\n",
      "           7       0.91      0.83      0.87        12\n",
      "           8       0.79      0.92      0.85        12\n",
      "           9       0.86      1.00      0.92        12\n",
      "          10       1.00      0.75      0.86        12\n",
      "          11       0.62      0.67      0.64        12\n",
      "          12       0.79      0.92      0.85        12\n",
      "          13       0.56      0.42      0.48        12\n",
      "          14       1.00      1.00      1.00        12\n",
      "          15       0.92      1.00      0.96        12\n",
      "\n",
      "    accuracy                           0.87       180\n",
      "   macro avg       0.88      0.87      0.87       180\n",
      "weighted avg       0.88      0.87      0.87       180\n",
      "\n",
      "CPU times: user 950 ms, sys: 29.9 ms, total: 980 ms\n",
      "Wall time: 1.07 s\n"
     ]
    }
   ],
   "source": [
    "%%time\n",
    "y_pred = clf.predict(X_test)\n",
    "print(classification_report(y_test, y_pred))"
   ]
  },
  {
   "cell_type": "markdown",
   "metadata": {
    "pycharm": {
     "name": "#%% md\n"
    }
   },
   "source": [
    "### Rocket"
   ]
  },
  {
   "cell_type": "code",
   "execution_count": 29,
   "metadata": {
    "pycharm": {
     "name": "#%%\n"
    }
   },
   "outputs": [],
   "source": [
    "from sklearn.linear_model import RidgeClassifierCV\n",
    "from sktime.transformations.panel.rocket import Rocket"
   ]
  },
  {
   "cell_type": "code",
   "execution_count": 30,
   "metadata": {
    "pycharm": {
     "name": "#%%\n"
    }
   },
   "outputs": [
    {
     "name": "stdout",
     "output_type": "stream",
     "text": [
      "CPU times: user 2.96 s, sys: 169 ms, total: 3.13 s\n",
      "Wall time: 3.05 s\n"
     ]
    },
    {
     "data": {
      "text/plain": [
       "RidgeClassifierCV(alphas=array([1.00000000e-03, 4.64158883e-03, 2.15443469e-02, 1.00000000e-01,\n",
       "       4.64158883e-01, 2.15443469e+00, 1.00000000e+01, 4.64158883e+01,\n",
       "       2.15443469e+02, 1.00000000e+03]),\n",
       "                  normalize=True)"
      ]
     },
     "execution_count": 30,
     "metadata": {},
     "output_type": "execute_result"
    }
   ],
   "source": [
    "%%time\n",
    "rocket = Rocket()\n",
    "rocket.fit(X_train)\n",
    "X_train_transform = rocket.transform(X_train)\n",
    "clf = RidgeClassifierCV(alphas=np.logspace(-3, 3, 10), normalize=True)\n",
    "clf.fit(X_train_transform, y_train)"
   ]
  },
  {
   "cell_type": "code",
   "execution_count": 31,
   "metadata": {
    "pycharm": {
     "name": "#%%\n"
    }
   },
   "outputs": [
    {
     "name": "stdout",
     "output_type": "stream",
     "text": [
      "              precision    recall  f1-score   support\n",
      "\n",
      "           1       1.00      0.92      0.96        12\n",
      "           2       0.91      0.83      0.87        12\n",
      "           3       1.00      1.00      1.00        12\n",
      "           4       0.91      0.83      0.87        12\n",
      "           5       1.00      0.92      0.96        12\n",
      "           6       0.85      0.92      0.88        12\n",
      "           7       1.00      0.92      0.96        12\n",
      "           8       1.00      0.92      0.96        12\n",
      "           9       0.92      1.00      0.96        12\n",
      "          10       1.00      0.67      0.80        12\n",
      "          11       0.75      1.00      0.86        12\n",
      "          12       0.80      1.00      0.89        12\n",
      "          13       1.00      0.75      0.86        12\n",
      "          14       1.00      1.00      1.00        12\n",
      "          15       0.75      1.00      0.86        12\n",
      "\n",
      "    accuracy                           0.91       180\n",
      "   macro avg       0.93      0.91      0.91       180\n",
      "weighted avg       0.93      0.91      0.91       180\n",
      "\n"
     ]
    }
   ],
   "source": [
    "X_test_transform = rocket.transform(X_test)\n",
    "y_pred = clf.predict(X_test_transform)\n",
    "print(classification_report(y_test, y_pred))"
   ]
  },
  {
   "cell_type": "markdown",
   "metadata": {},
   "source": [
    "### MINI-ROCKET"
   ]
  },
  {
   "cell_type": "code",
   "execution_count": 32,
   "metadata": {
    "pycharm": {
     "name": "#%%\n"
    }
   },
   "outputs": [],
   "source": [
    "from sklearn.linear_model import RidgeClassifierCV\n",
    "from sktime.transformations.panel.rocket import MiniRocketMultivariate"
   ]
  },
  {
   "cell_type": "code",
   "execution_count": 33,
   "metadata": {
    "pycharm": {
     "name": "#%%\n"
    }
   },
   "outputs": [
    {
     "name": "stdout",
     "output_type": "stream",
     "text": [
      "CPU times: user 885 ms, sys: 62.8 ms, total: 948 ms\n",
      "Wall time: 913 ms\n"
     ]
    },
    {
     "data": {
      "text/plain": [
       "RidgeClassifierCV(alphas=array([1.00000000e-03, 4.64158883e-03, 2.15443469e-02, 1.00000000e-01,\n",
       "       4.64158883e-01, 2.15443469e+00, 1.00000000e+01, 4.64158883e+01,\n",
       "       2.15443469e+02, 1.00000000e+03]),\n",
       "                  normalize=True)"
      ]
     },
     "execution_count": 33,
     "metadata": {},
     "output_type": "execute_result"
    }
   ],
   "source": [
    "%%time\n",
    "minirocket = MiniRocketMultivariate()  # by default, MiniRocket uses ~10,000 kernels\n",
    "minirocket.fit(X_train)\n",
    "X_train_transform = minirocket.transform(X_train)\n",
    "clf = RidgeClassifierCV(alphas=np.logspace(-3, 3, 10), normalize=True)\n",
    "clf.fit(X_train_transform, y_train)"
   ]
  },
  {
   "cell_type": "code",
   "execution_count": 34,
   "metadata": {
    "pycharm": {
     "name": "#%%\n"
    }
   },
   "outputs": [
    {
     "name": "stdout",
     "output_type": "stream",
     "text": [
      "              precision    recall  f1-score   support\n",
      "\n",
      "           1       1.00      1.00      1.00        12\n",
      "           2       1.00      1.00      1.00        12\n",
      "           3       1.00      1.00      1.00        12\n",
      "           4       0.90      0.75      0.82        12\n",
      "           5       1.00      0.83      0.91        12\n",
      "           6       0.79      0.92      0.85        12\n",
      "           7       1.00      1.00      1.00        12\n",
      "           8       1.00      0.83      0.91        12\n",
      "           9       0.92      1.00      0.96        12\n",
      "          10       1.00      0.67      0.80        12\n",
      "          11       0.85      0.92      0.88        12\n",
      "          12       0.75      1.00      0.86        12\n",
      "          13       0.83      0.83      0.83        12\n",
      "          14       0.92      1.00      0.96        12\n",
      "          15       0.77      0.83      0.80        12\n",
      "\n",
      "    accuracy                           0.91       180\n",
      "   macro avg       0.92      0.91      0.90       180\n",
      "weighted avg       0.92      0.91      0.90       180\n",
      "\n"
     ]
    }
   ],
   "source": [
    "X_test_transform = minirocket.transform(X_test)\n",
    "y_pred = clf.predict(X_test_transform)\n",
    "print(classification_report(y_test, y_pred))"
   ]
  }
 ],
 "metadata": {
  "kernelspec": {
   "display_name": "Python 3",
   "language": "python",
   "name": "python3"
  },
  "language_info": {
   "codemirror_mode": {
    "name": "ipython",
    "version": 3
   },
   "file_extension": ".py",
   "mimetype": "text/x-python",
   "name": "python",
   "nbconvert_exporter": "python",
   "pygments_lexer": "ipython3",
   "version": "3.8.5"
  }
 },
 "nbformat": 4,
 "nbformat_minor": 1
}
